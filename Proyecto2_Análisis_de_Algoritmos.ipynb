{
  "nbformat": 4,
  "nbformat_minor": 0,
  "metadata": {
    "colab": {
      "name": "Proyecto2 - Análisis de Algoritmos.ipynb",
      "provenance": [],
      "collapsed_sections": []
    },
    "kernelspec": {
      "name": "python3",
      "display_name": "Python 3"
    },
    "language_info": {
      "name": "python"
    }
  },
  "cells": [
    {
      "cell_type": "markdown",
      "metadata": {
        "id": "2uS0d9Sxc4jS"
      },
      "source": [
        "Cristina Bautista - 161260"
      ]
    },
    {
      "cell_type": "markdown",
      "metadata": {
        "id": "7hCAK5dBcyHV"
      },
      "source": [
        "# Proyecto 2 - Analisis de Algoritmos"
      ]
    },
    {
      "cell_type": "markdown",
      "metadata": {
        "id": "puyIojAjdD3m"
      },
      "source": [
        "Inciso a)"
      ]
    },
    {
      "cell_type": "code",
      "metadata": {
        "colab": {
          "base_uri": "https://localhost:8080/"
        },
        "id": "M0gkd34ON_3V",
        "outputId": "76d7b866-f43b-472c-f6f8-b85712db5acc"
      },
      "source": [
        "a = [0, 1, 2, 3, 4]\n",
        "b = [0, 1, 2, 3, 4, 0, 1, 2, 3, 4, 0, 1, 2, 3, 4, 0, 1, 2, 3, 4]\n",
        "\n",
        "z = []\n",
        "\n",
        "def MTFA(listA, listB):\n",
        "  for i in listB:\n",
        "    print(\"Configuracion inicial: \", a)\n",
        "    x = a.index(i)\n",
        "    a.insert(0, a.pop(x))\n",
        "    y = x + 1\n",
        "    z.append(y)\n",
        "    print(\"Solicitud: \", i, \"Costo: \", y, \"Configuracion final: \", a)\n",
        "MTFA(a, b)\n",
        "print()\n",
        "print(\"Costo total\", sum(z))"
      ],
      "execution_count": 186,
      "outputs": [
        {
          "output_type": "stream",
          "text": [
            "Configuracion inicial:  [0, 1, 2, 3, 4]\n",
            "Solicitud:  0 Costo:  1 Configuracion final:  [0, 1, 2, 3, 4]\n",
            "Configuracion inicial:  [0, 1, 2, 3, 4]\n",
            "Solicitud:  1 Costo:  2 Configuracion final:  [1, 0, 2, 3, 4]\n",
            "Configuracion inicial:  [1, 0, 2, 3, 4]\n",
            "Solicitud:  2 Costo:  3 Configuracion final:  [2, 1, 0, 3, 4]\n",
            "Configuracion inicial:  [2, 1, 0, 3, 4]\n",
            "Solicitud:  3 Costo:  4 Configuracion final:  [3, 2, 1, 0, 4]\n",
            "Configuracion inicial:  [3, 2, 1, 0, 4]\n",
            "Solicitud:  4 Costo:  5 Configuracion final:  [4, 3, 2, 1, 0]\n",
            "Configuracion inicial:  [4, 3, 2, 1, 0]\n",
            "Solicitud:  0 Costo:  5 Configuracion final:  [0, 4, 3, 2, 1]\n",
            "Configuracion inicial:  [0, 4, 3, 2, 1]\n",
            "Solicitud:  1 Costo:  5 Configuracion final:  [1, 0, 4, 3, 2]\n",
            "Configuracion inicial:  [1, 0, 4, 3, 2]\n",
            "Solicitud:  2 Costo:  5 Configuracion final:  [2, 1, 0, 4, 3]\n",
            "Configuracion inicial:  [2, 1, 0, 4, 3]\n",
            "Solicitud:  3 Costo:  5 Configuracion final:  [3, 2, 1, 0, 4]\n",
            "Configuracion inicial:  [3, 2, 1, 0, 4]\n",
            "Solicitud:  4 Costo:  5 Configuracion final:  [4, 3, 2, 1, 0]\n",
            "Configuracion inicial:  [4, 3, 2, 1, 0]\n",
            "Solicitud:  0 Costo:  5 Configuracion final:  [0, 4, 3, 2, 1]\n",
            "Configuracion inicial:  [0, 4, 3, 2, 1]\n",
            "Solicitud:  1 Costo:  5 Configuracion final:  [1, 0, 4, 3, 2]\n",
            "Configuracion inicial:  [1, 0, 4, 3, 2]\n",
            "Solicitud:  2 Costo:  5 Configuracion final:  [2, 1, 0, 4, 3]\n",
            "Configuracion inicial:  [2, 1, 0, 4, 3]\n",
            "Solicitud:  3 Costo:  5 Configuracion final:  [3, 2, 1, 0, 4]\n",
            "Configuracion inicial:  [3, 2, 1, 0, 4]\n",
            "Solicitud:  4 Costo:  5 Configuracion final:  [4, 3, 2, 1, 0]\n",
            "Configuracion inicial:  [4, 3, 2, 1, 0]\n",
            "Solicitud:  0 Costo:  5 Configuracion final:  [0, 4, 3, 2, 1]\n",
            "Configuracion inicial:  [0, 4, 3, 2, 1]\n",
            "Solicitud:  1 Costo:  5 Configuracion final:  [1, 0, 4, 3, 2]\n",
            "Configuracion inicial:  [1, 0, 4, 3, 2]\n",
            "Solicitud:  2 Costo:  5 Configuracion final:  [2, 1, 0, 4, 3]\n",
            "Configuracion inicial:  [2, 1, 0, 4, 3]\n",
            "Solicitud:  3 Costo:  5 Configuracion final:  [3, 2, 1, 0, 4]\n",
            "Configuracion inicial:  [3, 2, 1, 0, 4]\n",
            "Solicitud:  4 Costo:  5 Configuracion final:  [4, 3, 2, 1, 0]\n",
            "\n",
            "Costo total 90\n"
          ],
          "name": "stdout"
        }
      ]
    },
    {
      "cell_type": "markdown",
      "metadata": {
        "id": "omOZ9RW1SWI0"
      },
      "source": [
        "Inciso b)"
      ]
    },
    {
      "cell_type": "code",
      "metadata": {
        "colab": {
          "base_uri": "https://localhost:8080/"
        },
        "id": "VCFlMhW6OQG0",
        "outputId": "e66a05ad-446d-44d4-c3f6-e6019df8f2d5"
      },
      "source": [
        "a = [0, 1, 2, 3, 4]\n",
        "b = [4, 3, 2, 1, 0, 1, 2, 3, 4, 3, 2, 1, 0, 1, 2, 3, 4]\n",
        "\n",
        "z = []\n",
        "\n",
        "def MTFB(listA, listB):\n",
        "  for i in listB:\n",
        "    print(\"Configuracion inicial: \", a)\n",
        "    x = a.index(i)\n",
        "    a.insert(0, a.pop(x))\n",
        "    y = x + 1\n",
        "    z.append(y)\n",
        "    print(\"Solicitud: \", i, \"Costo: \", y, \"Configuracion final: \", a)\n",
        "MTFB(a, b)\n",
        "print()\n",
        "print(\"Costo total\", sum(z))"
      ],
      "execution_count": 187,
      "outputs": [
        {
          "output_type": "stream",
          "text": [
            "Configuracion inicial:  [0, 1, 2, 3, 4]\n",
            "Solicitud:  4 Costo:  5 Configuracion final:  [4, 0, 1, 2, 3]\n",
            "Configuracion inicial:  [4, 0, 1, 2, 3]\n",
            "Solicitud:  3 Costo:  5 Configuracion final:  [3, 4, 0, 1, 2]\n",
            "Configuracion inicial:  [3, 4, 0, 1, 2]\n",
            "Solicitud:  2 Costo:  5 Configuracion final:  [2, 3, 4, 0, 1]\n",
            "Configuracion inicial:  [2, 3, 4, 0, 1]\n",
            "Solicitud:  1 Costo:  5 Configuracion final:  [1, 2, 3, 4, 0]\n",
            "Configuracion inicial:  [1, 2, 3, 4, 0]\n",
            "Solicitud:  0 Costo:  5 Configuracion final:  [0, 1, 2, 3, 4]\n",
            "Configuracion inicial:  [0, 1, 2, 3, 4]\n",
            "Solicitud:  1 Costo:  2 Configuracion final:  [1, 0, 2, 3, 4]\n",
            "Configuracion inicial:  [1, 0, 2, 3, 4]\n",
            "Solicitud:  2 Costo:  3 Configuracion final:  [2, 1, 0, 3, 4]\n",
            "Configuracion inicial:  [2, 1, 0, 3, 4]\n",
            "Solicitud:  3 Costo:  4 Configuracion final:  [3, 2, 1, 0, 4]\n",
            "Configuracion inicial:  [3, 2, 1, 0, 4]\n",
            "Solicitud:  4 Costo:  5 Configuracion final:  [4, 3, 2, 1, 0]\n",
            "Configuracion inicial:  [4, 3, 2, 1, 0]\n",
            "Solicitud:  3 Costo:  2 Configuracion final:  [3, 4, 2, 1, 0]\n",
            "Configuracion inicial:  [3, 4, 2, 1, 0]\n",
            "Solicitud:  2 Costo:  3 Configuracion final:  [2, 3, 4, 1, 0]\n",
            "Configuracion inicial:  [2, 3, 4, 1, 0]\n",
            "Solicitud:  1 Costo:  4 Configuracion final:  [1, 2, 3, 4, 0]\n",
            "Configuracion inicial:  [1, 2, 3, 4, 0]\n",
            "Solicitud:  0 Costo:  5 Configuracion final:  [0, 1, 2, 3, 4]\n",
            "Configuracion inicial:  [0, 1, 2, 3, 4]\n",
            "Solicitud:  1 Costo:  2 Configuracion final:  [1, 0, 2, 3, 4]\n",
            "Configuracion inicial:  [1, 0, 2, 3, 4]\n",
            "Solicitud:  2 Costo:  3 Configuracion final:  [2, 1, 0, 3, 4]\n",
            "Configuracion inicial:  [2, 1, 0, 3, 4]\n",
            "Solicitud:  3 Costo:  4 Configuracion final:  [3, 2, 1, 0, 4]\n",
            "Configuracion inicial:  [3, 2, 1, 0, 4]\n",
            "Solicitud:  4 Costo:  5 Configuracion final:  [4, 3, 2, 1, 0]\n",
            "\n",
            "Costo total 67\n"
          ],
          "name": "stdout"
        }
      ]
    },
    {
      "cell_type": "markdown",
      "metadata": {
        "id": "anFeesZnTntP"
      },
      "source": [
        "Inciso c) Sería una secuencia de veinte 0's"
      ]
    },
    {
      "cell_type": "markdown",
      "metadata": {
        "id": "uzfpgJbRT4H8"
      },
      "source": [
        "Prueba"
      ]
    },
    {
      "cell_type": "code",
      "metadata": {
        "colab": {
          "base_uri": "https://localhost:8080/"
        },
        "id": "3P1okZ_ESeZF",
        "outputId": "7e74c21f-651e-4897-d031-d7e1cb52b5fc"
      },
      "source": [
        "a = [0, 1, 2, 3, 4]\n",
        "b = [0, 0, 0, 0, 0, 0, 0, 0, 0, 0, 0, 0, 0, 0, 0, 0, 0, 0, 0, 0]\n",
        "\n",
        "z = []\n",
        "\n",
        "def MTFC(listA, listB):\n",
        "  for i in listB:\n",
        "    x = a.index(i)\n",
        "    a.insert(0, a.pop(x))\n",
        "    y = x + 1\n",
        "    z.append(y)\n",
        "MTFC(a, b)\n",
        "print()\n",
        "print(\"Costo total\", sum(z))"
      ],
      "execution_count": 190,
      "outputs": [
        {
          "output_type": "stream",
          "text": [
            "\n",
            "Costo total 20\n"
          ],
          "name": "stdout"
        }
      ]
    },
    {
      "cell_type": "markdown",
      "metadata": {
        "id": "fpqcNCgsUZtZ"
      },
      "source": [
        "Inciso d) Sería una secuencia de sets de 4-3-2-1-0's hasta cubrir los 20 numeros"
      ]
    },
    {
      "cell_type": "markdown",
      "metadata": {
        "id": "2XkA0w06U7sV"
      },
      "source": [
        "Prueba"
      ]
    },
    {
      "cell_type": "code",
      "metadata": {
        "colab": {
          "base_uri": "https://localhost:8080/"
        },
        "id": "wOuCtk5wUDhq",
        "outputId": "3b29b90b-0677-4fa6-b9d6-42d3002dea47"
      },
      "source": [
        "a = [0, 1, 2, 3, 4]\n",
        "b = [4, 3, 2, 1, 0, 4, 3, 2, 1, 0, 4, 3, 2, 1, 0, 4, 3, 2, 1, 0]\n",
        "\n",
        "z = []\n",
        "\n",
        "def MTFD(listA, listB):\n",
        "  for i in listB:\n",
        "    x = a.index(i)\n",
        "    a.insert(0, a.pop(x))\n",
        "    y = x + 1\n",
        "    z.append(y)\n",
        "MTFD(a, b)\n",
        "print()\n",
        "print(\"Costo total\", sum(z))"
      ],
      "execution_count": 191,
      "outputs": [
        {
          "output_type": "stream",
          "text": [
            "\n",
            "Costo total 100\n"
          ],
          "name": "stdout"
        }
      ]
    },
    {
      "cell_type": "markdown",
      "metadata": {
        "id": "IS8Wus98VQWv"
      },
      "source": [
        "Inciso e) La formula seria n + k - 1 "
      ]
    },
    {
      "cell_type": "code",
      "metadata": {
        "colab": {
          "base_uri": "https://localhost:8080/"
        },
        "id": "bIbC6kKRUjgc",
        "outputId": "9243cbd1-b72f-4b37-df48-ed056d2ac819"
      },
      "source": [
        "a = [0, 1, 2, 3, 4]\n",
        "b = [2, 2, 2, 2, 2, 2, 2, 2, 2, 2, 2, 2, 2, 2, 2, 2, 2, 2, 2, 2]\n",
        "c = [0, 1, 2, 3, 4]\n",
        "d = [3, 3, 3, 3, 3, 3, 3, 3, 3, 3, 3, 3, 3, 3, 3, 3, 3, 3, 3, 3]\n",
        "\n",
        "z = []\n",
        "zz = []\n",
        "\n",
        "def MTFEA(listA, listB):\n",
        "  for i in listB:\n",
        "    print(\"Configuracion inicial: \", a)\n",
        "    x = a.index(i)\n",
        "    a.insert(0, a.pop(x))\n",
        "    y = x + 1\n",
        "    z.append(y)\n",
        "    print(\"Solicitud: \", i, \"Costo: \", y, \"Configuracion final: \", a)\n",
        "MTFEA(a, b)\n",
        "print()\n",
        "print(\"Costo total a)\", sum(z))\n",
        "\n",
        "def MTFEB(listC, listD):\n",
        "  for i in listD:\n",
        "    x = c.index(i)\n",
        "    c.insert(0, c.pop(x))\n",
        "    y = x + 1\n",
        "    zz.append(y)\n",
        "MTFEB(c, d)\n",
        "print()\n",
        "print(\"Costo total b)\", sum(zz))"
      ],
      "execution_count": 194,
      "outputs": [
        {
          "output_type": "stream",
          "text": [
            "Configuracion inicial:  [0, 1, 2, 3, 4]\n",
            "Solicitud:  2 Costo:  3 Configuracion final:  [2, 0, 1, 3, 4]\n",
            "Configuracion inicial:  [2, 0, 1, 3, 4]\n",
            "Solicitud:  2 Costo:  1 Configuracion final:  [2, 0, 1, 3, 4]\n",
            "Configuracion inicial:  [2, 0, 1, 3, 4]\n",
            "Solicitud:  2 Costo:  1 Configuracion final:  [2, 0, 1, 3, 4]\n",
            "Configuracion inicial:  [2, 0, 1, 3, 4]\n",
            "Solicitud:  2 Costo:  1 Configuracion final:  [2, 0, 1, 3, 4]\n",
            "Configuracion inicial:  [2, 0, 1, 3, 4]\n",
            "Solicitud:  2 Costo:  1 Configuracion final:  [2, 0, 1, 3, 4]\n",
            "Configuracion inicial:  [2, 0, 1, 3, 4]\n",
            "Solicitud:  2 Costo:  1 Configuracion final:  [2, 0, 1, 3, 4]\n",
            "Configuracion inicial:  [2, 0, 1, 3, 4]\n",
            "Solicitud:  2 Costo:  1 Configuracion final:  [2, 0, 1, 3, 4]\n",
            "Configuracion inicial:  [2, 0, 1, 3, 4]\n",
            "Solicitud:  2 Costo:  1 Configuracion final:  [2, 0, 1, 3, 4]\n",
            "Configuracion inicial:  [2, 0, 1, 3, 4]\n",
            "Solicitud:  2 Costo:  1 Configuracion final:  [2, 0, 1, 3, 4]\n",
            "Configuracion inicial:  [2, 0, 1, 3, 4]\n",
            "Solicitud:  2 Costo:  1 Configuracion final:  [2, 0, 1, 3, 4]\n",
            "Configuracion inicial:  [2, 0, 1, 3, 4]\n",
            "Solicitud:  2 Costo:  1 Configuracion final:  [2, 0, 1, 3, 4]\n",
            "Configuracion inicial:  [2, 0, 1, 3, 4]\n",
            "Solicitud:  2 Costo:  1 Configuracion final:  [2, 0, 1, 3, 4]\n",
            "Configuracion inicial:  [2, 0, 1, 3, 4]\n",
            "Solicitud:  2 Costo:  1 Configuracion final:  [2, 0, 1, 3, 4]\n",
            "Configuracion inicial:  [2, 0, 1, 3, 4]\n",
            "Solicitud:  2 Costo:  1 Configuracion final:  [2, 0, 1, 3, 4]\n",
            "Configuracion inicial:  [2, 0, 1, 3, 4]\n",
            "Solicitud:  2 Costo:  1 Configuracion final:  [2, 0, 1, 3, 4]\n",
            "Configuracion inicial:  [2, 0, 1, 3, 4]\n",
            "Solicitud:  2 Costo:  1 Configuracion final:  [2, 0, 1, 3, 4]\n",
            "Configuracion inicial:  [2, 0, 1, 3, 4]\n",
            "Solicitud:  2 Costo:  1 Configuracion final:  [2, 0, 1, 3, 4]\n",
            "Configuracion inicial:  [2, 0, 1, 3, 4]\n",
            "Solicitud:  2 Costo:  1 Configuracion final:  [2, 0, 1, 3, 4]\n",
            "Configuracion inicial:  [2, 0, 1, 3, 4]\n",
            "Solicitud:  2 Costo:  1 Configuracion final:  [2, 0, 1, 3, 4]\n",
            "Configuracion inicial:  [2, 0, 1, 3, 4]\n",
            "Solicitud:  2 Costo:  1 Configuracion final:  [2, 0, 1, 3, 4]\n",
            "\n",
            "Costo total a) 22\n",
            "\n",
            "Costo total b) 23\n"
          ],
          "name": "stdout"
        }
      ]
    },
    {
      "cell_type": "markdown",
      "metadata": {
        "id": "2tTFul3KqiZV"
      },
      "source": [
        "Inciso f)"
      ]
    },
    {
      "cell_type": "code",
      "metadata": {
        "id": "5hAijYgsVx6H",
        "colab": {
          "base_uri": "https://localhost:8080/"
        },
        "outputId": "411fda51-eed7-4a35-f6c8-d68a1cada02a"
      },
      "source": [
        "a = [0, 1, 2, 3, 4]\n",
        "b = [4, 3, 2, 1, 0, 4, 3, 2, 1, 0, 4, 3, 2, 1, 0, 4, 3, 2, 1, 0]\n",
        "c = [0, 0, 0, 0, 0, 0, 0, 0, 0, 0, 0, 0, 0, 0, 0, 0, 0, 0, 0, 0]\n",
        "\n",
        "z = []\n",
        "\n",
        "def solveF(listA, listB):\n",
        "  for j in range(len(listB)):\n",
        "    print(\"Configuracion inicial: \", a)\n",
        "    x = a.index(listB[j])\n",
        "    done = x+j+1\n",
        "    if done > len(listA):\n",
        "      done = len(listA)\n",
        "    for i in range(j+1, done):\n",
        "      if b[j] == listB[i]:\n",
        "        a.insert(0, a.pop(x))\n",
        "        y = x + 1\n",
        "        z.append(y)\n",
        "        print(\"Solicitud: \", listB[j], \"Costo: \", y, \"Configuracion final: \", a)\n",
        "    y = x + 1\n",
        "    z.append(y)\n",
        "    print(\"Solicitud: \", listB[j], \"Costo: \", y, \"Configuracion final: \", a)\n",
        "  print(\"Costo total: \", sum(z))\n",
        "  z.clear()\n",
        "\n",
        "solveF(a, b)\n",
        "print()\n",
        "print()\n",
        "solveF(a, c)\n"
      ],
      "execution_count": 183,
      "outputs": [
        {
          "output_type": "stream",
          "text": [
            "Configuracion inicial:  [0, 1, 2, 3, 4]\n",
            "Solicitud:  4 Costo:  5 Configuracion final:  [0, 1, 2, 3, 4]\n",
            "Configuracion inicial:  [0, 1, 2, 3, 4]\n",
            "Solicitud:  3 Costo:  4 Configuracion final:  [0, 1, 2, 3, 4]\n",
            "Configuracion inicial:  [0, 1, 2, 3, 4]\n",
            "Solicitud:  2 Costo:  3 Configuracion final:  [0, 1, 2, 3, 4]\n",
            "Configuracion inicial:  [0, 1, 2, 3, 4]\n",
            "Solicitud:  1 Costo:  2 Configuracion final:  [0, 1, 2, 3, 4]\n",
            "Configuracion inicial:  [0, 1, 2, 3, 4]\n",
            "Solicitud:  0 Costo:  1 Configuracion final:  [0, 1, 2, 3, 4]\n",
            "Configuracion inicial:  [0, 1, 2, 3, 4]\n",
            "Solicitud:  4 Costo:  5 Configuracion final:  [0, 1, 2, 3, 4]\n",
            "Configuracion inicial:  [0, 1, 2, 3, 4]\n",
            "Solicitud:  3 Costo:  4 Configuracion final:  [0, 1, 2, 3, 4]\n",
            "Configuracion inicial:  [0, 1, 2, 3, 4]\n",
            "Solicitud:  2 Costo:  3 Configuracion final:  [0, 1, 2, 3, 4]\n",
            "Configuracion inicial:  [0, 1, 2, 3, 4]\n",
            "Solicitud:  1 Costo:  2 Configuracion final:  [0, 1, 2, 3, 4]\n",
            "Configuracion inicial:  [0, 1, 2, 3, 4]\n",
            "Solicitud:  0 Costo:  1 Configuracion final:  [0, 1, 2, 3, 4]\n",
            "Configuracion inicial:  [0, 1, 2, 3, 4]\n",
            "Solicitud:  4 Costo:  5 Configuracion final:  [0, 1, 2, 3, 4]\n",
            "Configuracion inicial:  [0, 1, 2, 3, 4]\n",
            "Solicitud:  3 Costo:  4 Configuracion final:  [0, 1, 2, 3, 4]\n",
            "Configuracion inicial:  [0, 1, 2, 3, 4]\n",
            "Solicitud:  2 Costo:  3 Configuracion final:  [0, 1, 2, 3, 4]\n",
            "Configuracion inicial:  [0, 1, 2, 3, 4]\n",
            "Solicitud:  1 Costo:  2 Configuracion final:  [0, 1, 2, 3, 4]\n",
            "Configuracion inicial:  [0, 1, 2, 3, 4]\n",
            "Solicitud:  0 Costo:  1 Configuracion final:  [0, 1, 2, 3, 4]\n",
            "Configuracion inicial:  [0, 1, 2, 3, 4]\n",
            "Solicitud:  4 Costo:  5 Configuracion final:  [0, 1, 2, 3, 4]\n",
            "Configuracion inicial:  [0, 1, 2, 3, 4]\n",
            "Solicitud:  3 Costo:  4 Configuracion final:  [0, 1, 2, 3, 4]\n",
            "Configuracion inicial:  [0, 1, 2, 3, 4]\n",
            "Solicitud:  2 Costo:  3 Configuracion final:  [0, 1, 2, 3, 4]\n",
            "Configuracion inicial:  [0, 1, 2, 3, 4]\n",
            "Solicitud:  1 Costo:  2 Configuracion final:  [0, 1, 2, 3, 4]\n",
            "Configuracion inicial:  [0, 1, 2, 3, 4]\n",
            "Solicitud:  0 Costo:  1 Configuracion final:  [0, 1, 2, 3, 4]\n",
            "Costo total:  60\n",
            "\n",
            "\n",
            "Configuracion inicial:  [0, 1, 2, 3, 4]\n",
            "Solicitud:  0 Costo:  1 Configuracion final:  [0, 1, 2, 3, 4]\n",
            "Configuracion inicial:  [0, 1, 2, 3, 4]\n",
            "Solicitud:  0 Costo:  1 Configuracion final:  [0, 1, 2, 3, 4]\n",
            "Configuracion inicial:  [0, 1, 2, 3, 4]\n",
            "Solicitud:  0 Costo:  1 Configuracion final:  [0, 1, 2, 3, 4]\n",
            "Configuracion inicial:  [0, 1, 2, 3, 4]\n",
            "Solicitud:  0 Costo:  1 Configuracion final:  [0, 1, 2, 3, 4]\n",
            "Configuracion inicial:  [0, 1, 2, 3, 4]\n",
            "Solicitud:  0 Costo:  1 Configuracion final:  [0, 1, 2, 3, 4]\n",
            "Configuracion inicial:  [0, 1, 2, 3, 4]\n",
            "Solicitud:  0 Costo:  1 Configuracion final:  [0, 1, 2, 3, 4]\n",
            "Configuracion inicial:  [0, 1, 2, 3, 4]\n",
            "Solicitud:  0 Costo:  1 Configuracion final:  [0, 1, 2, 3, 4]\n",
            "Configuracion inicial:  [0, 1, 2, 3, 4]\n",
            "Solicitud:  0 Costo:  1 Configuracion final:  [0, 1, 2, 3, 4]\n",
            "Configuracion inicial:  [0, 1, 2, 3, 4]\n",
            "Solicitud:  0 Costo:  1 Configuracion final:  [0, 1, 2, 3, 4]\n",
            "Configuracion inicial:  [0, 1, 2, 3, 4]\n",
            "Solicitud:  0 Costo:  1 Configuracion final:  [0, 1, 2, 3, 4]\n",
            "Configuracion inicial:  [0, 1, 2, 3, 4]\n",
            "Solicitud:  0 Costo:  1 Configuracion final:  [0, 1, 2, 3, 4]\n",
            "Configuracion inicial:  [0, 1, 2, 3, 4]\n",
            "Solicitud:  0 Costo:  1 Configuracion final:  [0, 1, 2, 3, 4]\n",
            "Configuracion inicial:  [0, 1, 2, 3, 4]\n",
            "Solicitud:  0 Costo:  1 Configuracion final:  [0, 1, 2, 3, 4]\n",
            "Configuracion inicial:  [0, 1, 2, 3, 4]\n",
            "Solicitud:  0 Costo:  1 Configuracion final:  [0, 1, 2, 3, 4]\n",
            "Configuracion inicial:  [0, 1, 2, 3, 4]\n",
            "Solicitud:  0 Costo:  1 Configuracion final:  [0, 1, 2, 3, 4]\n",
            "Configuracion inicial:  [0, 1, 2, 3, 4]\n",
            "Solicitud:  0 Costo:  1 Configuracion final:  [0, 1, 2, 3, 4]\n",
            "Configuracion inicial:  [0, 1, 2, 3, 4]\n",
            "Solicitud:  0 Costo:  1 Configuracion final:  [0, 1, 2, 3, 4]\n",
            "Configuracion inicial:  [0, 1, 2, 3, 4]\n",
            "Solicitud:  0 Costo:  1 Configuracion final:  [0, 1, 2, 3, 4]\n",
            "Configuracion inicial:  [0, 1, 2, 3, 4]\n",
            "Solicitud:  0 Costo:  1 Configuracion final:  [0, 1, 2, 3, 4]\n",
            "Configuracion inicial:  [0, 1, 2, 3, 4]\n",
            "Solicitud:  0 Costo:  1 Configuracion final:  [0, 1, 2, 3, 4]\n",
            "Costo total:  20\n"
          ],
          "name": "stdout"
        }
      ]
    },
    {
      "cell_type": "markdown",
      "metadata": {
        "id": "5ghVPgG0sbfm"
      },
      "source": [
        "g)\n",
        "\n",
        "a) ¿Cuál es la diferencia entre un algoritmo online y uno offline?\n",
        "\n",
        "En informática, un algoritmo en línea es aquel que procesa en serie su entrada pieza por pieza, sin tener toda la entrada disponible desde el principio.\n",
        "\n",
        "Por el contrario, un algoritmo fuera de línea recibe todos los datos del problema desde el principio y se requiere para generar una respuesta que resuelva el problema en cuestión.\n",
        "\n",
        "Chaturvedi. 2021. \"Online Algorithms vs Offline Algorithms\". Medium. Recuperado de: https://themacbit.medium.com/online-algorithms-vs-offline-algorithms-cb1e28fe5d8a\n",
        "\n",
        "b) ¿Cambiarían en algo su desempeñoo  su  comportamiento MTF e  IMTF  si  se usaran  como  algoritmos online (considere  el  efecto  de diferentes secuencias de solicitudes)?\n",
        "\n",
        "MTF por definición es un algoritmo online, IMTF si cambiaría (ya que por definición es offline), porque tiene que verificar la parte de i-1 primero (lo cual no se podría si fuera online, ya que no existe el acceso a la secuencia de solicitudes en el inicio)\n",
        "\n",
        "c) Investigue y describa al menos un algoritmo adicional que sea online y que sirva para atender una secuencia de solicitudes de accesos.\n",
        "\n",
        "Page Replacement Algorithm\n",
        "\n",
        "Greedy Algorithm\n",
        "\n",
        "Online Algorithm. Wikipedia. Recuperado de: https://en.wikipedia.org/wiki/Online_algorithm\n"
      ]
    },
    {
      "cell_type": "code",
      "metadata": {
        "id": "qKjsZoYmE4zW"
      },
      "source": [
        ""
      ],
      "execution_count": 70,
      "outputs": []
    }
  ]
}